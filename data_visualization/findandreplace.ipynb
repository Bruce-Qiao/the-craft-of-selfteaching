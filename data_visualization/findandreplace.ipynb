{
 "cells": [
  {
   "cell_type": "code",
   "execution_count": 5,
   "metadata": {},
   "outputs": [
    {
     "name": "stdout",
     "output_type": "stream",
     "text": [
      "['.DS_Store', 'countries.csv', 'dataVisualizationWithPython.ipynb', 'findandreplace.ipynb', 'sample_data.csv', 'score.csv', 'score.ipynb', 'score.numbers']\n",
      "dataVisualizationWithPython.ipynb\n",
      "['Matplotlib Exercise']\n",
      "> - [dataVisualizationWithPython（**Matplotlib Exercise**）](dataVisualizationWithPython.ipynb)\n",
      "findandreplace.ipynb\n",
      "[]\n",
      "score.ipynb\n",
      "['模考成绩分析', '高新一中']\n",
      "> - [score（**模考成绩分析**）](score.ipynb)\n"
     ]
    }
   ],
   "source": [
    "import re\n",
    "import os\n",
    "\n",
    "files = [f for f in os.listdir('.') if os.path.isfile(f)]\n",
    "files.sort()\n",
    "print(files)\n",
    "for f in files:\n",
    "    if '.ipynb' in f:\n",
    "        print(f)\n",
    "        with open(f, 'r', encoding = 'UTF-8') as file:\n",
    "            str = file.read()\n",
    "            pttn = r'\"# (.*)\"\\n'\n",
    "            r = re.findall(pttn, str)\n",
    "            print(r)\n",
    "            if len(r) > 0:\n",
    "                print(f'> - [{f.replace(\".ipynb\", \"\")}（**{r[0]}**）]({f})') # 生成 markdown"
   ]
  }
 ],
 "metadata": {
  "kernelspec": {
   "display_name": "Python 3",
   "language": "python",
   "name": "python3"
  },
  "language_info": {
   "codemirror_mode": {
    "name": "ipython",
    "version": 3
   },
   "file_extension": ".py",
   "mimetype": "text/x-python",
   "name": "python",
   "nbconvert_exporter": "python",
   "pygments_lexer": "ipython3",
   "version": "3.7.3"
  }
 },
 "nbformat": 4,
 "nbformat_minor": 2
}

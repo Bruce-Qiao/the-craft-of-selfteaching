{
 "cells": [
  {
   "cell_type": "code",
   "execution_count": 7,
   "metadata": {},
   "outputs": [
    {
     "name": "stdout",
     "output_type": "stream",
     "text": [
      "3628800\n",
      "Total time taken in :  factorial 0.00010 s\n"
     ]
    }
   ],
   "source": [
    "from IPython.core.interactiveshell import InteractiveShell\n",
    "InteractiveShell.ast_node_interactivity = \"all\"\n",
    "\n",
    "# importing libraries \n",
    "import time \n",
    "import math \n",
    "\n",
    "# decorator to calculate duration \n",
    "# taken by any function. \n",
    "def calculate_time(func): \n",
    "\t\n",
    "\t# added arguments inside the inner1, \n",
    "\t# if function takes any arguments, \n",
    "\t# can be added like this. \n",
    "\tdef inner1(*args, **kwargs): \n",
    "\n",
    "\t\t# storing time before function execution \n",
    "\t\tbegin = time.time() \n",
    "\t\t\n",
    "\t\tfunc(*args, **kwargs) \n",
    "\n",
    "\t\t# storing time after function execution \n",
    "\t\tend = time.time() \n",
    "\t\tprint(\"Total time taken in : \", func.__name__, \"{0:.5f}\".format(end - begin), \"s\") \n",
    "\n",
    "\treturn inner1 \n",
    "\n",
    "\n",
    "\n",
    "# this can be added to any function present, \n",
    "# in this case to calculate a factorial \n",
    "@calculate_time\n",
    "def factorial(num): \n",
    "\n",
    "\t# sleep 2 seconds because it takes very less time \n",
    "\t# so that you can see the actual difference \n",
    "\t#time.sleep(2) \n",
    "\tprint(math.factorial(num)) \n",
    "\n",
    "# calling the function. \n",
    "factorial(10) \n"
   ]
  }
 ],
 "metadata": {
  "kernelspec": {
   "display_name": "Python 3",
   "language": "python",
   "name": "python3"
  },
  "language_info": {
   "codemirror_mode": {
    "name": "ipython",
    "version": 3
   },
   "file_extension": ".py",
   "mimetype": "text/x-python",
   "name": "python",
   "nbconvert_exporter": "python",
   "pygments_lexer": "ipython3",
   "version": "3.7.3"
  }
 },
 "nbformat": 4,
 "nbformat_minor": 2
}
